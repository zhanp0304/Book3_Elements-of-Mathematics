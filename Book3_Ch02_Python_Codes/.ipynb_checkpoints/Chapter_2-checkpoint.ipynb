{
 "cells": [
  {
   "cell_type": "code",
   "execution_count": null,
   "id": "42068301-0ed6-4869-9ce7-9488944c274b",
   "metadata": {},
   "outputs": [],
   "source": [
    "# Chapter 2 乘除"
   ]
  },
  {
   "cell_type": "code",
   "execution_count": null,
   "id": "4e6c23c8-8096-4150-bfb8-7cef24db320c",
   "metadata": {},
   "outputs": [],
   "source": [
    "# Bk3_Ch2_10_A\n",
    "\n",
    "import numpy as np\n",
    "from matplotlib import pyplot as plt\n",
    "import seaborn as sns\n",
    "\n",
    "# Repeatability\n",
    "np.random.seed(7)\n",
    "\n",
    "# Generate matrix A and B\n",
    "m = 6\n",
    "p = 3\n",
    "n = 4\n",
    "\n",
    "A = np.random.uniform(-1,1,m*p).reshape(m, p)\n",
    "B = np.random.uniform(-1,1,p*n).reshape(p, n)\n",
    "\n",
    "C = A@B\n",
    "\n",
    "all_max = 1\n",
    "all_min = -1\n",
    "\n",
    "#%% matrix multiplication, first perspective\n",
    "\n",
    "fig, axs = plt.subplots(1, 5, figsize=(12, 3))\n",
    "\n",
    "plt.sca(axs[0])\n",
    "ax = sns.heatmap(A,cmap='RdBu_r',vmax = all_max,vmin = all_min,\n",
    "                 cbar_kws={\"orientation\": \"horizontal\"},\n",
    "                 yticklabels=np.arange(1,m+1), xticklabels=np.arange(1,p+1))\n",
    "ax.set_aspect(\"equal\")\n",
    "plt.title('$A$')\n",
    "plt.yticks(rotation=0) \n",
    "\n",
    "plt.sca(axs[1])\n",
    "plt.title('$@$')\n",
    "plt.axis('off')\n",
    "\n",
    "plt.sca(axs[2])\n",
    "ax = sns.heatmap(B,cmap='RdBu_r',vmax = all_max,vmin = all_min,\n",
    "                 cbar_kws={\"orientation\": \"horizontal\"},\n",
    "                 yticklabels=np.arange(1,p+1), xticklabels=np.arange(1,n+1))\n",
    "ax.set_aspect(\"equal\")\n",
    "plt.title('$B$')\n",
    "plt.yticks(rotation=0) \n",
    "\n",
    "plt.sca(axs[3])\n",
    "plt.title('$=$')\n",
    "plt.axis('off')\n",
    "\n",
    "plt.sca(axs[4])\n",
    "ax = sns.heatmap(C,cmap='RdBu_r',vmax = all_max,vmin = all_min,\n",
    "                 cbar_kws={\"orientation\": \"horizontal\"},\n",
    "                 yticklabels=np.arange(1,m+1), xticklabels=np.arange(1,n+1))\n",
    "ax.set_aspect(\"equal\")\n",
    "plt.title('$C$')\n",
    "plt.yticks(rotation=0) "
   ]
  }
 ],
 "metadata": {
  "kernelspec": {
   "display_name": "Python 3 (ipykernel)",
   "language": "python",
   "name": "python3"
  },
  "language_info": {
   "codemirror_mode": {
    "name": "ipython",
    "version": 3
   },
   "file_extension": ".py",
   "mimetype": "text/x-python",
   "name": "python",
   "nbconvert_exporter": "python",
   "pygments_lexer": "ipython3",
   "version": "3.11.5"
  }
 },
 "nbformat": 4,
 "nbformat_minor": 5
}
