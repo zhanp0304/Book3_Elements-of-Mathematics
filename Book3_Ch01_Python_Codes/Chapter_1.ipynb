{
 "cells": [
  {
   "cell_type": "code",
   "execution_count": null,
   "id": "c0561287-370f-46aa-9874-b7800bf34af2",
   "metadata": {},
   "outputs": [],
   "source": [
    "# Chapter 1"
   ]
  },
  {
   "cell_type": "markdown",
   "id": "0e68a608-7f45-4618-a0d1-a1fb3ff2e004",
   "metadata": {},
   "source": [
    "1）数学其实并没有想象中那么难，我们不应该把数学从生活，工作实践中给分割出来作为一门学科，数学始终贯穿在各个领域与技术中，作为基石般的存在。\n",
    "2）认真学过数学的人 >> 没认真学过数学的人\n",
    "3）我始终相信学数学是一件难且正确的事情，但当将来遇到瓶颈的时候，数学就是突破瓶颈唯一的方法。"
   ]
  },
  {
   "cell_type": "code",
   "execution_count": 56,
   "id": "59d74feb-8096-4546-ab2a-cf1c7e38c95c",
   "metadata": {
    "tags": []
   },
   "outputs": [
    {
     "name": "stdout",
     "output_type": "stream",
     "text": [
      "pi =  3.141592653589793\n",
      "pi(1000-digit) =  3.141592653589793238462643383279502884197169399375105820974944592307816406286208998628034825342117067982148086513282306647093844609550582231725359408128481117450284102701938521105559644622948954930381964428810975665933446128475648233786783165271201909145648566923460348610454326648213393607260249141273724587006606315588174881520920962829254091715364367892590360011330530548820466521384146951941511609433057270365759591953092186117381932611793105118548074462379962749567351885752724891227938183011949129833673362440656643086021394946395224737190702179860943702770539217176293176752384674818467669405132000568127145263560827785771342757789609173637178721468440901224953430146549585371050792279689258923542019956112129021960864034418159813629774771309960518707211349999998372978049951059731732816096318595024459455346908302642522308253344685035261931188171010003137838752886587533208381420617177669147303598253490428755468731159562863882353787593751957781857780532171226806613001927876611195909216420199\n",
      "e =  2.718281828459045\n",
      "sqrt(2) =  1.4142135623730951\n",
      "sqrt(18) =  4.242640687119285\n"
     ]
    }
   ],
   "source": [
    "# Bk3_Ch1_01\n",
    "# Import math library\n",
    "import math\n",
    "from mpmath import mp\n",
    "\n",
    "\n",
    "# Print the value of pi\n",
    "print ('pi = ', math.pi)\n",
    "\n",
    "# Print 1000-digit pi\n",
    "mp.dps = 1000\n",
    "pi_1000_digits = mp.pi\n",
    "print ('pi(1000-digit) = ', pi_1000_digits)\n",
    "\n",
    "# Print the value of e\n",
    "print ('e = ', math.e)\n",
    "\n",
    "# Print the value of square root of 2\n",
    "print ('sqrt(2) = ', math.sqrt(2))\n",
    "print ('sqrt(18) = ', math.sqrt(18))\n"
   ]
  },
  {
   "cell_type": "code",
   "execution_count": 5,
   "id": "057c064a-3ee3-498b-8c2d-fc6cde01252c",
   "metadata": {},
   "outputs": [
    {
     "ename": "SyntaxError",
     "evalue": "invalid syntax (2510584880.py, line 1)",
     "output_type": "error",
     "traceback": [
      "\u001b[0;36m  Cell \u001b[0;32mIn[5], line 1\u001b[0;36m\u001b[0m\n\u001b[0;31m    streamlit run /Users/zhanpeng/anaconda3/lib/python3.11/site-packages/ipykernel_launcher.py\u001b[0m\n\u001b[0m              ^\u001b[0m\n\u001b[0;31mSyntaxError\u001b[0m\u001b[0;31m:\u001b[0m invalid syntax\n"
     ]
    }
   ],
   "source": []
  },
  {
   "cell_type": "code",
   "execution_count": 21,
   "id": "61e2db82-8c7f-4928-8955-8c36a9f77547",
   "metadata": {
    "tags": []
   },
   "outputs": [
    {
     "data": {
      "text/plain": [
       "DeltaGenerator()"
      ]
     },
     "execution_count": 21,
     "metadata": {},
     "output_type": "execute_result"
    }
   ],
   "source": [
    "# Streamlit_Bk3_Ch1_02.py\n",
    "\n",
    "from mpmath import mp\n",
    "import streamlit as st\n",
    "import numpy as np\n",
    "import matplotlib.pyplot as plt\n",
    "\n",
    "with st.sidebar:\n",
    "    \n",
    "\n",
    "    num_digits = st.slider('Number of decimal digits:',\n",
    "                           min_value = 10000, \n",
    "                           max_value = 100000,\n",
    "                           step = 10000)\n",
    "    \n",
    "mp.dps = num_digits + 2\n",
    "pi_digits = mp.pi\n",
    "# st.write(str(pi_digits))\n",
    "pi_digits = str(pi_digits)[2:]\n",
    "pi_digits_list = [int(x) for x in pi_digits]\n",
    "# st.write(pi_digits_list)\n",
    "\n",
    "pi_digits_array = np.array(pi_digits_list)\n",
    "\n",
    "counts = np.bincount(pi_digits_array)\n",
    "\n",
    "fig, ax = plt.subplots()\n",
    "\n",
    "ax.barh(range(10), counts, align = 'center',\n",
    "        edgecolor = [0.6, 0.6, 0.6])\n",
    "\n",
    "ax.spines['top'].set_visible(False)\n",
    "ax.spines['right'].set_visible(False)\n",
    "\n",
    "ax.set_xlabel('Count')\n",
    "ax.set_ylabel('Digit, 0~9')\n",
    "plt.yticks(range(10))\n",
    "\n",
    "st.pyplot(fig)"
   ]
  },
  {
   "cell_type": "markdown",
   "id": "9772a723-5903-4ce6-9c2b-a9d501f356cc",
   "metadata": {},
   "source": [
    "## 1.4 向量\n",
    "\n",
    "向量（vector) 其实就是计算机里面的数组的意思，行向量（row vector) 和列向量（column vector)"
   ]
  },
  {
   "cell_type": "code",
   "execution_count": 43,
   "id": "08718f90-6f94-4f6e-b92c-490badf5d3e9",
   "metadata": {
    "tags": []
   },
   "outputs": [
    {
     "name": "stdout",
     "output_type": "stream",
     "text": [
      "a_row [1 2 3]\n",
      "b_row [[1 2 3]]\n",
      "[[1]\n",
      " [2]\n",
      " [3]]\n",
      "[[1 2 3]]\n"
     ]
    }
   ],
   "source": [
    "import numpy as np\n",
    "\n",
    "a_row = np.array([1,2,3]);\n",
    "print('a_row', a_row);\n",
    "\n",
    "b_row = np.array([[1,2,3]]);\n",
    "print('b_row', b_row);\n",
    "\n",
    "# row vector transposed to a column vector\n",
    "a_row = np.array([[1, 2, 3]])\n",
    "\n",
    "b = a_row.T\n",
    "\n",
    "b_col = np.array([[1],[2],[3]])\n",
    "\n",
    "print(b)\n",
    "\n",
    "a = b_col.T\n",
    "\n",
    "print(a)"
   ]
  },
  {
   "cell_type": "code",
   "execution_count": 73,
   "id": "2c2e1bfe-27c5-4618-a338-cdba5236da4c",
   "metadata": {
    "tags": []
   },
   "outputs": [
    {
     "name": "stdout",
     "output_type": "stream",
     "text": [
      "[1 4]\n",
      "[[1]\n",
      " [4]]\n",
      "[[1 2]\n",
      " [4 5]]\n",
      "[[1 3]\n",
      " [4 6]]\n",
      "[[1 2 3]]\n",
      "[4]\n"
     ]
    }
   ],
   "source": [
    "import numpy as np\n",
    "\n",
    "A = np.array([[1, 2, 3],\n",
    "              [4, 5, 6]])\n",
    "\n",
    "A_first_col = A[:,0] # saved as one dimension row\n",
    "print(A_first_col);\n",
    "\n",
    "A_first_col_V2 = A[:,[0]] # saved as a column\n",
    "print(A_first_col_V2);\n",
    "\n",
    "A_first_second_col_V2 = A[:,[0,1]] # extract first and second columns\n",
    "print(A_first_second_col_V2);\n",
    "\n",
    "A_first_third_col_V2 = A[:,[0,2]] # extract first and third columns\n",
    "print(A_first_third_col_V2);\n",
    "\n",
    "A_first_row = A[[0],:] # extract first row\n",
    "print(A_first_row);\n",
    "\n",
    "A_second_row_first_col = A[[1],[0]] # i = 2, j = 1\n",
    "print(A_second_row_first_col);"
   ]
  },
  {
   "cell_type": "code",
   "execution_count": 75,
   "id": "cbba18ea-1f2a-4713-8e8e-4f10f72f1c1a",
   "metadata": {
    "tags": []
   },
   "outputs": [
    {
     "name": "stdout",
     "output_type": "stream",
     "text": [
      "[[1 2 3]\n",
      " [4 5 6]\n",
      " [7 8 9]]\n",
      "[[1 4 7]\n",
      " [2 5 8]\n",
      " [3 6 9]]\n"
     ]
    }
   ],
   "source": [
    "import numpy as np\n",
    "\n",
    "A = np.array([[1, 4, 7],\n",
    "              [2, 5, 8],\n",
    "              [3, 6, 9]]);\n",
    "AT = A.T;\n",
    "print(AT);\n",
    "\n",
    "AT = AT.T\n",
    "print(AT);"
   ]
  },
  {
   "cell_type": "code",
   "execution_count": null,
   "id": "6dad9882-74ed-4e26-8f8d-a66bacca8027",
   "metadata": {},
   "outputs": [],
   "source": [
    "class Solution {\n",
    "    public int[][] transpose(int[][] matrix) {\n",
    "        int[][] tranposeMatrix = new int[matrix[0].length][matrix.length];\n",
    "        for (int i = 0; i < matrix[0].length; i++) {\n",
    "            tranposeMatrix[i] = new int[matrix.length];\n",
    "        }\n",
    "\n",
    "        for (int i = 0; i < matrix.length; i++) { \n",
    "            for (int j = 0; j < matrix[0].length; j++) {\n",
    "                tranposeMatrix[j][i] = matrix[i][j];\n",
    "            }\n",
    "        }\n",
    "\n",
    "        return tranposeMatrix;\n",
    "    }\n",
    "}"
   ]
  }
 ],
 "metadata": {
  "kernelspec": {
   "display_name": "Python 3 (ipykernel)",
   "language": "python",
   "name": "python3"
  },
  "language_info": {
   "codemirror_mode": {
    "name": "ipython",
    "version": 3
   },
   "file_extension": ".py",
   "mimetype": "text/x-python",
   "name": "python",
   "nbconvert_exporter": "python",
   "pygments_lexer": "ipython3",
   "version": "3.11.5"
  }
 },
 "nbformat": 4,
 "nbformat_minor": 5
}
